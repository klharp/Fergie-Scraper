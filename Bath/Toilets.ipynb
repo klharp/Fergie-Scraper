{
 "cells": [
  {
   "cell_type": "markdown",
   "metadata": {},
   "source": [
    "# Toilets\n",
    "## CA Drought Compliant 1.28 GPF (gallons per flush) or less"
   ]
  },
  {
   "cell_type": "markdown",
   "metadata": {},
   "source": [
    "Change\n",
    "1. config var\n",
    "2. query URL\n",
    "3. csv filename\n",
    "\n",
    "Pages 32"
   ]
  },
  {
   "cell_type": "code",
   "execution_count": 1,
   "metadata": {},
   "outputs": [],
   "source": [
    "# Dependencies\n",
    "from bs4 import BeautifulSoup\n",
    "import requests\n",
    "import re\n",
    "import pandas as pd\n",
    "import csv\n",
    "import time\n",
    "\n",
    "# Import URL\n",
    "from config import bath_toilets_url"
   ]
  },
  {
   "cell_type": "code",
   "execution_count": 2,
   "metadata": {},
   "outputs": [],
   "source": [
    "# # Check to determine if URLs are accessed\n",
    "\n",
    "# page = 1\n",
    "# while page !=4:\n",
    "#     query_url = f\"{bath_faucet_url}?page={page}\"\n",
    "#     print(query_url)\n",
    "#     page = page + 1\n",
    "#     time.sleep(5)"
   ]
  },
  {
   "cell_type": "code",
   "execution_count": 3,
   "metadata": {},
   "outputs": [],
   "source": [
    "# Build query \n",
    "generated_text = []\n",
    "\n",
    "page = 1\n",
    "while page !=33:\n",
    "    query_url = f\"{bath_toilets_url}?page={page}\"\n",
    "    headers = {'User-Agent': 'Mozilla/5.0 (Windows NT 10.0; Win64; x64) AppleWebKit/537.36 (KHTML, like Gecko) Chrome/83.0.4103.61 Safari/537.36'}\n",
    "    \n",
    "    r=requests.get(query_url, headers=headers)\n",
    "    soup1 = BeautifulSoup(r.content, 'html5lib')\n",
    "    prod_desc = soup1.find_all('div', class_='lh-title normal f5 fw3 fw2-ns tc3-title tc4-title-ns')\n",
    "    \n",
    "    for i in prod_desc:\n",
    "        prod_text = i.text.strip()\n",
    "        generated_text.append(prod_text)\n",
    "    \n",
    "    page =  page + 1\n",
    "    time.sleep(20)\n"
   ]
  },
  {
   "cell_type": "code",
   "execution_count": 4,
   "metadata": {},
   "outputs": [],
   "source": [
    "df = pd.DataFrame(generated_text, columns= [\"Description\"])"
   ]
  },
  {
   "cell_type": "code",
   "execution_count": 5,
   "metadata": {},
   "outputs": [
    {
     "data": {
      "text/html": [
       "<div>\n",
       "<style scoped>\n",
       "    .dataframe tbody tr th:only-of-type {\n",
       "        vertical-align: middle;\n",
       "    }\n",
       "\n",
       "    .dataframe tbody tr th {\n",
       "        vertical-align: top;\n",
       "    }\n",
       "\n",
       "    .dataframe thead th {\n",
       "        text-align: right;\n",
       "    }\n",
       "</style>\n",
       "<table border=\"1\" class=\"dataframe\">\n",
       "  <thead>\n",
       "    <tr style=\"text-align: right;\">\n",
       "      <th></th>\n",
       "      <th>Description</th>\n",
       "    </tr>\n",
       "  </thead>\n",
       "  <tbody>\n",
       "    <tr>\n",
       "      <th>0</th>\n",
       "      <td>Kohler Santa Rosa 1.28 GPF One-Piece Elongated...</td>\n",
       "    </tr>\n",
       "    <tr>\n",
       "      <th>1</th>\n",
       "      <td>Kohler 1.28 GPF Tank from the Wellworth Collec...</td>\n",
       "    </tr>\n",
       "    <tr>\n",
       "      <th>2</th>\n",
       "      <td>Signature Hardware Bradenton 1.28 GPF Two-Piec...</td>\n",
       "    </tr>\n",
       "    <tr>\n",
       "      <th>3</th>\n",
       "      <td>Kohler Memoirs Stately 1.28 GPF Toilet Tank On...</td>\n",
       "    </tr>\n",
       "    <tr>\n",
       "      <th>4</th>\n",
       "      <td>TOTO Drake II 1.28 GPF Toilet Tank Only - Left...</td>\n",
       "    </tr>\n",
       "    <tr>\n",
       "      <th>...</th>\n",
       "      <td>...</td>\n",
       "    </tr>\n",
       "    <tr>\n",
       "      <th>139</th>\n",
       "      <td>Kohler Wellworth Tank Only with right-hand tri...</td>\n",
       "    </tr>\n",
       "    <tr>\n",
       "      <th>140</th>\n",
       "      <td>Kohler 1.28 Gpf Elongated Toilet with Class Fi...</td>\n",
       "    </tr>\n",
       "    <tr>\n",
       "      <th>141</th>\n",
       "      <td>American Standard Townsend 1.28 GPF One-Piece ...</td>\n",
       "    </tr>\n",
       "    <tr>\n",
       "      <th>142</th>\n",
       "      <td>American Standard Boulevard Elongated Luxury O...</td>\n",
       "    </tr>\n",
       "    <tr>\n",
       "      <th>143</th>\n",
       "      <td>American Standard Studio S 1 GPF One Piece Elo...</td>\n",
       "    </tr>\n",
       "  </tbody>\n",
       "</table>\n",
       "<p>144 rows × 1 columns</p>\n",
       "</div>"
      ],
      "text/plain": [
       "                                           Description\n",
       "0    Kohler Santa Rosa 1.28 GPF One-Piece Elongated...\n",
       "1    Kohler 1.28 GPF Tank from the Wellworth Collec...\n",
       "2    Signature Hardware Bradenton 1.28 GPF Two-Piec...\n",
       "3    Kohler Memoirs Stately 1.28 GPF Toilet Tank On...\n",
       "4    TOTO Drake II 1.28 GPF Toilet Tank Only - Left...\n",
       "..                                                 ...\n",
       "139  Kohler Wellworth Tank Only with right-hand tri...\n",
       "140  Kohler 1.28 Gpf Elongated Toilet with Class Fi...\n",
       "141  American Standard Townsend 1.28 GPF One-Piece ...\n",
       "142  American Standard Boulevard Elongated Luxury O...\n",
       "143  American Standard Studio S 1 GPF One Piece Elo...\n",
       "\n",
       "[144 rows x 1 columns]"
      ]
     },
     "execution_count": 5,
     "metadata": {},
     "output_type": "execute_result"
    }
   ],
   "source": [
    "df"
   ]
  },
  {
   "cell_type": "code",
   "execution_count": 6,
   "metadata": {},
   "outputs": [],
   "source": [
    "df[\"Manufacturer\"] = df[\"Description\"].str.split(' ').str[0]"
   ]
  },
  {
   "cell_type": "code",
   "execution_count": 7,
   "metadata": {},
   "outputs": [],
   "source": [
    "df[\"Description\"] = df[\"Description\"].apply(lambda x: ' '.join(x.split(' ')[1:]))"
   ]
  },
  {
   "cell_type": "code",
   "execution_count": 8,
   "metadata": {},
   "outputs": [],
   "source": [
    "# df"
   ]
  },
  {
   "cell_type": "code",
   "execution_count": 9,
   "metadata": {},
   "outputs": [],
   "source": [
    "# Add csv export\n",
    "df.to_csv('data/bath_toilets.csv', index=False)"
   ]
  }
 ],
 "metadata": {
  "kernelspec": {
   "display_name": "Python 3",
   "language": "python",
   "name": "python3"
  },
  "language_info": {
   "codemirror_mode": {
    "name": "ipython",
    "version": 3
   },
   "file_extension": ".py",
   "mimetype": "text/x-python",
   "name": "python",
   "nbconvert_exporter": "python",
   "pygments_lexer": "ipython3",
   "version": "3.6.10"
  },
  "varInspector": {
   "cols": {
    "lenName": 16,
    "lenType": 16,
    "lenVar": 40
   },
   "kernels_config": {
    "python": {
     "delete_cmd_postfix": "",
     "delete_cmd_prefix": "del ",
     "library": "var_list.py",
     "varRefreshCmd": "print(var_dic_list())"
    },
    "r": {
     "delete_cmd_postfix": ") ",
     "delete_cmd_prefix": "rm(",
     "library": "var_list.r",
     "varRefreshCmd": "cat(var_dic_list()) "
    }
   },
   "types_to_exclude": [
    "module",
    "function",
    "builtin_function_or_method",
    "instance",
    "_Feature"
   ],
   "window_display": false
  }
 },
 "nbformat": 4,
 "nbformat_minor": 4
}
